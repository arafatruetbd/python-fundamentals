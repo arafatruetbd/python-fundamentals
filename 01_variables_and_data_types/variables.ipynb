{
 "cells": [
  {
   "cell_type": "markdown",
   "id": "73d8e9a8",
   "metadata": {},
   "source": [
    "# ============================\n",
    "# Variables & Data Types in Python\n",
    "# ============================"
   ]
  },
  {
   "cell_type": "code",
   "execution_count": 7,
   "id": "bf49105a",
   "metadata": {},
   "outputs": [
    {
     "name": "stdout",
     "output_type": "stream",
     "text": [
      "Numbers: 10 3.5\n"
     ]
    }
   ],
   "source": [
    "# 🔹 Numbers\n",
    "x = 10       # int\n",
    "y = 3.5      # float\n",
    "print(\"Numbers:\", x, y)"
   ]
  },
  {
   "cell_type": "code",
   "execution_count": 8,
   "id": "1205f1b2",
   "metadata": {},
   "outputs": [
    {
     "name": "stdout",
     "output_type": "stream",
     "text": [
      "String: Hello, Arafat!\n"
     ]
    }
   ],
   "source": [
    "# 🔹 Strings\n",
    "name = \"Arafat\"\n",
    "greeting = f\"Hello, {name}!\"\n",
    "print(\"String:\", greeting)"
   ]
  },
  {
   "cell_type": "code",
   "execution_count": 9,
   "id": "308033af",
   "metadata": {},
   "outputs": [
    {
     "name": "stdout",
     "output_type": "stream",
     "text": [
      "Booleans: True False\n"
     ]
    }
   ],
   "source": [
    "# 🔹 Boolean\n",
    "is_hungry = True\n",
    "is_sleepy = False\n",
    "print(\"Booleans:\", is_hungry, is_sleepy)\n"
   ]
  },
  {
   "cell_type": "code",
   "execution_count": 10,
   "id": "b0fa42ef",
   "metadata": {},
   "outputs": [
    {
     "name": "stdout",
     "output_type": "stream",
     "text": [
      "List: ['avocado', 'banana', 'mango', 'orange']\n"
     ]
    }
   ],
   "source": [
    "# 🔹 List (Mutable, Ordered)\n",
    "fruits = [\"apple\", \"banana\", \"mango\"]\n",
    "fruits.append(\"orange\")      # Add item\n",
    "fruits[0] = \"avocado\"        # Modify item\n",
    "print(\"List:\", fruits)\n"
   ]
  },
  {
   "cell_type": "code",
   "execution_count": 11,
   "id": "78f7140e",
   "metadata": {},
   "outputs": [
    {
     "name": "stdout",
     "output_type": "stream",
     "text": [
      "Tuple: ('red', 'green', 'blue')\n",
      "Tuple Element (2nd): green\n"
     ]
    }
   ],
   "source": [
    "# 🔹 Tuple (Immutable, Ordered)\n",
    "colors = (\"red\", \"green\", \"blue\")\n",
    "print(\"Tuple:\", colors)\n",
    "print(\"Tuple Element (2nd):\", colors[1])"
   ]
  },
  {
   "cell_type": "code",
   "execution_count": 12,
   "id": "4e5866b8",
   "metadata": {},
   "outputs": [
    {
     "name": "stdout",
     "output_type": "stream",
     "text": [
      "Dictionary: {'name': 'Arafat', 'age': 26, 'city': 'Dhaka'}\n"
     ]
    }
   ],
   "source": [
    "# 🔹 Dictionary (Key-Value Pairs)\n",
    "person = {\"name\": \"Arafat\", \"age\": 25}\n",
    "person[\"age\"] = 26       # Update value\n",
    "person[\"city\"] = \"Dhaka\" # Add new key-value\n",
    "print(\"Dictionary:\", person)"
   ]
  },
  {
   "cell_type": "code",
   "execution_count": 13,
   "id": "a04b3eef",
   "metadata": {},
   "outputs": [
    {
     "name": "stdout",
     "output_type": "stream",
     "text": [
      "Set: {1, 2, 3, 4}\n"
     ]
    }
   ],
   "source": [
    "# 🔹 Set (Unique, Unordered)\n",
    "numbers = {1, 2, 3, 2, 1}   # duplicates removed automatically\n",
    "numbers.add(4)\n",
    "print(\"Set:\", numbers)"
   ]
  },
  {
   "cell_type": "code",
   "execution_count": 15,
   "id": "355ddecc",
   "metadata": {},
   "outputs": [
    {
     "name": "stdout",
     "output_type": "stream",
     "text": [
      "Type of x: <class 'int'>\n",
      "Type of y: <class 'float'>\n",
      "Type of name: <class 'str'>\n"
     ]
    }
   ],
   "source": [
    "# 🔹 Type Checking\n",
    "print(\"Type of x:\", type(x))\n",
    "print(\"Type of y:\", type(y))\n",
    "print(\"Type of name:\", type(name))"
   ]
  },
  {
   "cell_type": "code",
   "execution_count": 16,
   "id": "ae2d1026",
   "metadata": {},
   "outputs": [
    {
     "name": "stdout",
     "output_type": "stream",
     "text": [
      "Type Conversion: 100 100.0 100\n"
     ]
    }
   ],
   "source": [
    "# 🔹 Type Conversion\n",
    "num = 100\n",
    "num_float = float(num)   # int → float\n",
    "num_str = str(num)       # int → string\n",
    "print(\"Type Conversion:\", num, num_float, num_str)\n"
   ]
  },
  {
   "cell_type": "code",
   "execution_count": 17,
   "id": "414b4caf",
   "metadata": {},
   "outputs": [
    {
     "name": "stdout",
     "output_type": "stream",
     "text": [
      "Valid Variables: 25 Rima\n"
     ]
    }
   ],
   "source": [
    "# 🔹 Variable Naming Rules\n",
    "_age = 25        # starts with underscore ✅\n",
    "name1 = \"Rima\"   # contains number ✅\n",
    "# 1name = \"Invalid\" ❌ Not allowed (starts with number)\n",
    "print(\"Valid Variables:\", _age, name1)"
   ]
  }
 ],
 "metadata": {
  "kernelspec": {
   "display_name": "Python 3",
   "language": "python",
   "name": "python3"
  },
  "language_info": {
   "codemirror_mode": {
    "name": "ipython",
    "version": 3
   },
   "file_extension": ".py",
   "mimetype": "text/x-python",
   "name": "python",
   "nbconvert_exporter": "python",
   "pygments_lexer": "ipython3",
   "version": "3.13.1"
  }
 },
 "nbformat": 4,
 "nbformat_minor": 5
}
