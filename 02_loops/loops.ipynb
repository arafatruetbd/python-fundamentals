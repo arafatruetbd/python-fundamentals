{
 "cells": [
  {
   "cell_type": "markdown",
   "id": "2ff05836",
   "metadata": {},
   "source": [
    "# 🔄 Loops in Python"
   ]
  },
  {
   "cell_type": "code",
   "execution_count": 1,
   "id": "2a5e1b75",
   "metadata": {},
   "outputs": [
    {
     "name": "stdout",
     "output_type": "stream",
     "text": [
      "\n",
      "--- 1️⃣ For Loop ---\n",
      "apple\n",
      "banana\n",
      "mango\n"
     ]
    }
   ],
   "source": [
    "print(\"\\n--- 1️⃣ For Loop ---\")\n",
    "fruits = [\"apple\", \"banana\", \"mango\"]\n",
    "for fruit in fruits:\n",
    "    print(fruit)"
   ]
  },
  {
   "cell_type": "code",
   "execution_count": 2,
   "id": "47817585",
   "metadata": {},
   "outputs": [
    {
     "name": "stdout",
     "output_type": "stream",
     "text": [
      "\n",
      "--- Using range() in for loop ---\n",
      "0\n",
      "1\n",
      "2\n",
      "3\n",
      "4\n"
     ]
    }
   ],
   "source": [
    "print(\"\\n--- Using range() in for loop ---\")\n",
    "for i in range(5):  # 0 to 4\n",
    "    print(i)"
   ]
  },
  {
   "cell_type": "code",
   "execution_count": 3,
   "id": "fb161305",
   "metadata": {},
   "outputs": [
    {
     "name": "stdout",
     "output_type": "stream",
     "text": [
      "\n",
      "--- 2️⃣ While Loop ---\n",
      "1\n",
      "2\n",
      "3\n",
      "4\n",
      "5\n"
     ]
    }
   ],
   "source": [
    "print(\"\\n--- 2️⃣ While Loop ---\")\n",
    "count = 1\n",
    "while count <= 5:\n",
    "    print(count)\n",
    "    count += 1"
   ]
  },
  {
   "cell_type": "code",
   "execution_count": 4,
   "id": "e9f57dc3",
   "metadata": {},
   "outputs": [
    {
     "name": "stdout",
     "output_type": "stream",
     "text": [
      "\n",
      "--- 3️⃣ Loop Control Statements ---\n",
      "break example:\n",
      "0\n",
      "1\n",
      "2\n",
      "3\n",
      "4\n",
      "continue example:\n",
      "0\n",
      "1\n",
      "3\n",
      "4\n",
      "pass example:\n"
     ]
    }
   ],
   "source": [
    "print(\"\\n--- 3️⃣ Loop Control Statements ---\")\n",
    "\n",
    "print(\"break example:\")\n",
    "for i in range(10):\n",
    "    if i == 5:\n",
    "        break\n",
    "    print(i)\n",
    "\n",
    "print(\"continue example:\")\n",
    "for i in range(5):\n",
    "    if i == 2:\n",
    "        continue\n",
    "    print(i)\n",
    "\n",
    "print(\"pass example:\")\n",
    "for i in range(3):\n",
    "    pass  # placeholder for future logic"
   ]
  },
  {
   "cell_type": "code",
   "execution_count": 5,
   "id": "90f596a7",
   "metadata": {},
   "outputs": [
    {
     "name": "stdout",
     "output_type": "stream",
     "text": [
      "\n",
      "--- 4️⃣ Nested Loops ---\n",
      "i=0, j=0\n",
      "i=0, j=1\n",
      "i=1, j=0\n",
      "i=1, j=1\n",
      "i=2, j=0\n",
      "i=2, j=1\n"
     ]
    }
   ],
   "source": [
    "print(\"\\n--- 4️⃣ Nested Loops ---\")\n",
    "for i in range(3):\n",
    "    for j in range(2):\n",
    "        print(f\"i={i}, j={j}\")\n"
   ]
  },
  {
   "cell_type": "code",
   "execution_count": 6,
   "id": "c2488139",
   "metadata": {},
   "outputs": [
    {
     "name": "stdout",
     "output_type": "stream",
     "text": [
      "\n",
      "--- 5️⃣ Loop with else ---\n",
      "0\n",
      "1\n",
      "2\n",
      "3\n",
      "4\n",
      "Loop finished without break\n"
     ]
    }
   ],
   "source": [
    "print(\"\\n--- 5️⃣ Loop with else ---\")\n",
    "for i in range(5):\n",
    "    print(i)\n",
    "else:\n",
    "    print(\"Loop finished without break\")"
   ]
  },
  {
   "cell_type": "code",
   "execution_count": 7,
   "id": "22f47089",
   "metadata": {},
   "outputs": [
    {
     "name": "stdout",
     "output_type": "stream",
     "text": [
      "\n",
      "--- 6️⃣ Looping with enumerate() ---\n",
      "0: Arafat\n",
      "1: Rima\n",
      "2: Nusrat\n"
     ]
    }
   ],
   "source": [
    "print(\"\\n--- 6️⃣ Looping with enumerate() ---\")\n",
    "names = [\"Arafat\", \"Rima\", \"Nusrat\"]\n",
    "for index, name in enumerate(names):\n",
    "    print(f\"{index}: {name}\")"
   ]
  },
  {
   "cell_type": "code",
   "execution_count": 8,
   "id": "6c213efa",
   "metadata": {},
   "outputs": [
    {
     "name": "stdout",
     "output_type": "stream",
     "text": [
      "\n",
      "--- 7️⃣ Looping with zip() ---\n",
      "Arafat scored 85\n",
      "Rima scored 92\n",
      "Nusrat scored 78\n"
     ]
    }
   ],
   "source": [
    "print(\"\\n--- 7️⃣ Looping with zip() ---\")\n",
    "students = [\"Arafat\", \"Rima\", \"Nusrat\"]\n",
    "marks = [85, 92, 78]\n",
    "\n",
    "for student, mark in zip(students, marks):\n",
    "    print(f\"{student} scored {mark}\")"
   ]
  },
  {
   "cell_type": "code",
   "execution_count": 9,
   "id": "ed99972a",
   "metadata": {},
   "outputs": [
    {
     "name": "stdout",
     "output_type": "stream",
     "text": [
      "\n",
      "✅ Summary: Demonstrated for, while, control statements, nested loops, else, enumerate, and zip.\n"
     ]
    }
   ],
   "source": [
    "print(\"\\n✅ Summary: Demonstrated for, while, control statements, nested loops, else, enumerate, and zip.\")"
   ]
  }
 ],
 "metadata": {
  "kernelspec": {
   "display_name": "Python 3",
   "language": "python",
   "name": "python3"
  },
  "language_info": {
   "codemirror_mode": {
    "name": "ipython",
    "version": 3
   },
   "file_extension": ".py",
   "mimetype": "text/x-python",
   "name": "python",
   "nbconvert_exporter": "python",
   "pygments_lexer": "ipython3",
   "version": "3.13.1"
  }
 },
 "nbformat": 4,
 "nbformat_minor": 5
}
