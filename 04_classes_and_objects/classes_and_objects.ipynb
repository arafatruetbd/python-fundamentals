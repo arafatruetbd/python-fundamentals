{
 "cells": [
  {
   "cell_type": "code",
   "execution_count": 2,
   "id": "6ffbf963",
   "metadata": {},
   "outputs": [
    {
     "name": "stdout",
     "output_type": "stream",
     "text": [
      "Empty class object: <__main__.Person object at 0x00000236AD7C8980>\n"
     ]
    }
   ],
   "source": [
    "# -------------------------------\n",
    "# 1️⃣ Empty Class Example\n",
    "# -------------------------------\n",
    "class Person:\n",
    "    pass  # empty class\n",
    "\n",
    "p1 = Person()\n",
    "print(\"Empty class object:\", p1)\n"
   ]
  },
  {
   "cell_type": "code",
   "execution_count": 3,
   "id": "ea501841",
   "metadata": {},
   "outputs": [
    {
     "name": "stdout",
     "output_type": "stream",
     "text": [
      "Object p1: Karim 25\n",
      "Object p2: Rahim 30\n",
      "\n"
     ]
    }
   ],
   "source": [
    "# -------------------------------\n",
    "# 2️⃣ Object / Instance of a Class\n",
    "# -------------------------------\n",
    "class Person:\n",
    "    def __init__(self, name, age):\n",
    "        self.name = name\n",
    "        self.age = age\n",
    "\n",
    "p1 = Person(\"Karim\", 25)\n",
    "p2 = Person(\"Rahim\", 30)\n",
    "\n",
    "print(\"Object p1:\", p1.name, p1.age)\n",
    "print(\"Object p2:\", p2.name, p2.age)\n",
    "print()"
   ]
  },
  {
   "cell_type": "code",
   "execution_count": 4,
   "id": "60f8026c",
   "metadata": {},
   "outputs": [
    {
     "name": "stdout",
     "output_type": "stream",
     "text": [
      "Car: Toyota Corolla\n",
      "\n"
     ]
    }
   ],
   "source": [
    "# -------------------------------\n",
    "# 3️⃣ __init__ Method (Constructor)\n",
    "# -------------------------------\n",
    "class Car:\n",
    "    def __init__(self, brand, model):\n",
    "        self.brand = brand\n",
    "        self.model = model\n",
    "\n",
    "my_car = Car(\"Toyota\", \"Corolla\")\n",
    "print(\"Car:\", my_car.brand, my_car.model)\n",
    "print()\n"
   ]
  },
  {
   "cell_type": "code",
   "execution_count": 5,
   "id": "df3daf5c",
   "metadata": {},
   "outputs": [
    {
     "name": "stdout",
     "output_type": "stream",
     "text": [
      "Hello, my name is Rahim and I am 25 years old.\n",
      "\n"
     ]
    }
   ],
   "source": [
    "# -------------------------------\n",
    "# 4️⃣ Instance Methods\n",
    "# -------------------------------\n",
    "class Person:\n",
    "    def __init__(self, name, age):\n",
    "        self.name = name\n",
    "        self.age = age\n",
    "\n",
    "    def greet(self):\n",
    "        print(f\"Hello, my name is {self.name} and I am {self.age} years old.\")\n",
    "\n",
    "p1 = Person(\"Rahim\", 25)\n",
    "p1.greet()\n",
    "print()"
   ]
  },
  {
   "cell_type": "code",
   "execution_count": 6,
   "id": "6662511e",
   "metadata": {},
   "outputs": [
    {
     "name": "stdout",
     "output_type": "stream",
     "text": [
      "d1: Rex Canine\n",
      "d2: Buddy Canine\n",
      "\n"
     ]
    }
   ],
   "source": [
    "# -------------------------------\n",
    "# 5️⃣ Class Variables vs Instance Variables\n",
    "# -------------------------------\n",
    "class Dog:\n",
    "    species = \"Canine\"  # class variable\n",
    "\n",
    "    def __init__(self, name):\n",
    "        self.name = name  # instance variable\n",
    "\n",
    "d1 = Dog(\"Rex\")\n",
    "d2 = Dog(\"Buddy\")\n",
    "\n",
    "print(\"d1:\", d1.name, d1.species)\n",
    "print(\"d2:\", d2.name, d2.species)\n",
    "print()"
   ]
  },
  {
   "cell_type": "code",
   "execution_count": 7,
   "id": "f8dd4210",
   "metadata": {},
   "outputs": [
    {
     "name": "stdout",
     "output_type": "stream",
     "text": [
      "Rex Dog\n",
      "Woof!\n",
      "\n"
     ]
    }
   ],
   "source": [
    "\n",
    "# -------------------------------\n",
    "# 6️⃣ Inheritance\n",
    "# -------------------------------\n",
    "class Animal:\n",
    "    def __init__(self, species):\n",
    "        self.species = species\n",
    "\n",
    "    def sound(self):\n",
    "        print(\"Some sound\")\n",
    "\n",
    "class Dog(Animal):\n",
    "    def __init__(self, name):\n",
    "        super().__init__(\"Dog\")\n",
    "        self.name = name\n",
    "\n",
    "    def sound(self):\n",
    "        print(\"Woof!\")\n",
    "\n",
    "d = Dog(\"Rex\")\n",
    "print(d.name, d.species)\n",
    "d.sound()\n",
    "print()\n"
   ]
  },
  {
   "cell_type": "code",
   "execution_count": 8,
   "id": "6761c799",
   "metadata": {},
   "outputs": [
    {
     "name": "stdout",
     "output_type": "stream",
     "text": [
      "Access via getter: Rahim\n",
      "\n"
     ]
    }
   ],
   "source": [
    "# -------------------------------\n",
    "# 7️⃣ Encapsulation (Private Attributes)\n",
    "# -------------------------------\n",
    "class Person:\n",
    "    def __init__(self, name, age):\n",
    "        self.__name = name  # private attribute\n",
    "        self.age = age\n",
    "\n",
    "    def get_name(self):\n",
    "        return self.__name\n",
    "\n",
    "p = Person(\"Rahim\", 25)\n",
    "print(\"Access via getter:\", p.get_name())\n",
    "# print(p.__name)  # ❌ This would raise an AttributeError\n",
    "print()"
   ]
  },
  {
   "cell_type": "code",
   "execution_count": 9,
   "id": "ae91188f",
   "metadata": {},
   "outputs": [
    {
     "name": "stdout",
     "output_type": "stream",
     "text": [
      "Meow\n",
      "Woof\n",
      "\n"
     ]
    }
   ],
   "source": [
    "# -------------------------------\n",
    "# 8️⃣ Polymorphism\n",
    "# -------------------------------\n",
    "class Cat:\n",
    "    def sound(self):\n",
    "        print(\"Meow\")\n",
    "\n",
    "class Dog:\n",
    "    def sound(self):\n",
    "        print(\"Woof\")\n",
    "\n",
    "animals = [Cat(), Dog()]\n",
    "for animal in animals:\n",
    "    animal.sound()\n",
    "print()"
   ]
  },
  {
   "cell_type": "code",
   "execution_count": 10,
   "id": "d5caf9d6",
   "metadata": {},
   "outputs": [
    {
     "name": "stdout",
     "output_type": "stream",
     "text": [
      "Rahim, 25 years old\n",
      "\n"
     ]
    }
   ],
   "source": [
    "# -------------------------------\n",
    "# 9️⃣ Special Methods (__str__, __repr__)\n",
    "# -------------------------------\n",
    "class Person:\n",
    "    def __init__(self, name, age):\n",
    "        self.name = name\n",
    "        self.age = age\n",
    "\n",
    "    def __str__(self):\n",
    "        return f\"{self.name}, {self.age} years old\"\n",
    "\n",
    "p = Person(\"Rahim\", 25)\n",
    "print(p)  # uses __str__\n",
    "print()"
   ]
  },
  {
   "cell_type": "code",
   "execution_count": 11,
   "id": "798dfd1e",
   "metadata": {},
   "outputs": [
    {
     "name": "stdout",
     "output_type": "stream",
     "text": [
      "Instance: Hello, Class: I am a class variable\n"
     ]
    }
   ],
   "source": [
    "# -------------------------------\n",
    "# ✅ Summary Demonstration\n",
    "# -------------------------------\n",
    "# Class as blueprint, object as instance\n",
    "class Example:\n",
    "    class_var = \"I am a class variable\"\n",
    "\n",
    "    def __init__(self, value):\n",
    "        self.instance_var = value\n",
    "\n",
    "    def show(self):\n",
    "        print(f\"Instance: {self.instance_var}, Class: {Example.class_var}\")\n",
    "\n",
    "obj = Example(\"Hello\")\n",
    "obj.show()"
   ]
  }
 ],
 "metadata": {
  "kernelspec": {
   "display_name": "Python 3",
   "language": "python",
   "name": "python3"
  },
  "language_info": {
   "codemirror_mode": {
    "name": "ipython",
    "version": 3
   },
   "file_extension": ".py",
   "mimetype": "text/x-python",
   "name": "python",
   "nbconvert_exporter": "python",
   "pygments_lexer": "ipython3",
   "version": "3.13.1"
  }
 },
 "nbformat": 4,
 "nbformat_minor": 5
}
