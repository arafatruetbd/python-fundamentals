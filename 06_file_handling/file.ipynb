{
 "cells": [
  {
   "cell_type": "markdown",
   "id": "d3fb2518",
   "metadata": {},
   "source": [
    "# 🛠 File Handling in Python"
   ]
  },
  {
   "cell_type": "code",
   "execution_count": 1,
   "id": "cfdae383",
   "metadata": {},
   "outputs": [],
   "source": [
    "# 1️⃣ Opening a File and Writing\n",
    "file = open(\"example.txt\", \"w\")  # open file for writing\n",
    "file.write(\"Hello, Python!\")\n",
    "file.close()  # always close after writing"
   ]
  },
  {
   "cell_type": "code",
   "execution_count": 2,
   "id": "112bb0b5",
   "metadata": {},
   "outputs": [
    {
     "name": "stdout",
     "output_type": "stream",
     "text": [
      "File content after writing:\n",
      "Hello, Python!\n"
     ]
    }
   ],
   "source": [
    "# Verify content\n",
    "file = open(\"example.txt\", \"r\")\n",
    "print(\"File content after writing:\")\n",
    "print(file.read())\n",
    "file.close()"
   ]
  },
  {
   "cell_type": "code",
   "execution_count": 3,
   "id": "0921a517",
   "metadata": {},
   "outputs": [
    {
     "name": "stdout",
     "output_type": "stream",
     "text": [
      "\n",
      "Reading the file:\n",
      "Hello, Python!\n"
     ]
    }
   ],
   "source": [
    "# 2️⃣ Reading a File\n",
    "file = open(\"example.txt\", \"r\")\n",
    "content = file.read()\n",
    "print(\"\\nReading the file:\")\n",
    "print(content)\n",
    "file.close()"
   ]
  },
  {
   "cell_type": "code",
   "execution_count": 4,
   "id": "7f68843d",
   "metadata": {},
   "outputs": [
    {
     "name": "stdout",
     "output_type": "stream",
     "text": [
      "\n",
      "Reading one line using readline():\n",
      "Hello, Python!\n"
     ]
    }
   ],
   "source": [
    "# Using .readline()\n",
    "file = open(\"example.txt\", \"r\")\n",
    "line = file.readline()\n",
    "print(\"\\nReading one line using readline():\")\n",
    "print(line)\n",
    "file.close()"
   ]
  },
  {
   "cell_type": "code",
   "execution_count": 5,
   "id": "579b91ae",
   "metadata": {},
   "outputs": [
    {
     "name": "stdout",
     "output_type": "stream",
     "text": [
      "\n",
      "Reading all lines using readlines():\n",
      "['Hello, Python!']\n"
     ]
    }
   ],
   "source": [
    "# Using .readlines()\n",
    "file = open(\"example.txt\", \"r\")\n",
    "lines = file.readlines()\n",
    "print(\"\\nReading all lines using readlines():\")\n",
    "print(lines)\n",
    "file.close()\n"
   ]
  },
  {
   "cell_type": "code",
   "execution_count": 7,
   "id": "2ed86633",
   "metadata": {},
   "outputs": [],
   "source": [
    "# 3️⃣ Appending to a File\n",
    "file = open(\"example.txt\", \"a\")\n",
    "file.write(\"\\nWelcome to Python file handling!\")\n",
    "file.close()"
   ]
  },
  {
   "cell_type": "code",
   "execution_count": 8,
   "id": "1f560fb0",
   "metadata": {},
   "outputs": [
    {
     "name": "stdout",
     "output_type": "stream",
     "text": [
      "\n",
      "File after appending:\n",
      "Hello, Python!\n",
      "Welcome to Python file handling!\n",
      "Welcome to Python file handling!\n"
     ]
    }
   ],
   "source": [
    "# Check appended content\n",
    "with open(\"example.txt\", \"r\") as file:\n",
    "    print(\"\\nFile after appending:\")\n",
    "    print(file.read())"
   ]
  },
  {
   "cell_type": "code",
   "execution_count": 9,
   "id": "21720b74",
   "metadata": {},
   "outputs": [
    {
     "name": "stdout",
     "output_type": "stream",
     "text": [
      "\n",
      "Using with statement to read:\n",
      "Hello, Python!\n",
      "Welcome to Python file handling!\n",
      "Welcome to Python file handling!\n"
     ]
    }
   ],
   "source": [
    "# 4️⃣ Using with statement (Recommended)\n",
    "with open(\"example.txt\", \"r\") as file:\n",
    "    content = file.read()\n",
    "    print(\"\\nUsing with statement to read:\")\n",
    "    print(content)\n",
    "# file is automatically closed"
   ]
  },
  {
   "cell_type": "code",
   "execution_count": 10,
   "id": "d6af05b2",
   "metadata": {},
   "outputs": [],
   "source": [
    "# 5️⃣ Reading and Writing in Binary Mode\n",
    "# Writing binary data\n",
    "with open(\"data.bin\", \"wb\") as file:\n",
    "    file.write(b'\\x00\\x01\\x02\\x03')  # b'' indicates bytes"
   ]
  },
  {
   "cell_type": "code",
   "execution_count": 12,
   "id": "c21366b5",
   "metadata": {},
   "outputs": [
    {
     "name": "stdout",
     "output_type": "stream",
     "text": [
      "\n",
      "Binary file content:\n",
      "b'\\x00\\x01\\x02\\x03'\n"
     ]
    }
   ],
   "source": [
    "with open(\"data.bin\", \"rb\") as file:\n",
    "    data = file.read()\n",
    "    print(\"\\nBinary file content:\")\n",
    "    print(data)\n"
   ]
  },
  {
   "cell_type": "code",
   "execution_count": 14,
   "id": "1c6f9465",
   "metadata": {},
   "outputs": [
    {
     "name": "stdout",
     "output_type": "stream",
     "text": [
      "\n",
      "File read(size=10): Hello, Pyt\n",
      "File readline(): Hello, Python!\n",
      "\n",
      "File readlines(): ['Hello, Python!\\n', 'Welcome to Python file handling!\\n', 'Welcome to Python file handling!']\n"
     ]
    }
   ],
   "source": [
    "# 6️⃣ File Methods demonstration\n",
    "with open(\"example.txt\", \"r\") as file:\n",
    "    print(\"\\nFile read(size=10):\", file.read(10))  # read first 10 characters\n",
    "    file.seek(0)  # move cursor back to start\n",
    "    print(\"File readline():\", file.readline())\n",
    "    file.seek(0)\n",
    "    print(\"File readlines():\", file.readlines())"
   ]
  },
  {
   "cell_type": "code",
   "execution_count": 15,
   "id": "ae1887c0",
   "metadata": {},
   "outputs": [],
   "source": [
    "with open(\"example.txt\", \"a\") as file:\n",
    "    file.writelines([\"\\nLine 1\\n\", \"Line 2\\n\"])"
   ]
  },
  {
   "cell_type": "code",
   "execution_count": 16,
   "id": "231b652e",
   "metadata": {},
   "outputs": [
    {
     "name": "stdout",
     "output_type": "stream",
     "text": [
      "\n",
      "File after writelines():\n",
      "Hello, Python!\n",
      "Welcome to Python file handling!\n",
      "Welcome to Python file handling!\n",
      "Line 1\n",
      "Line 2\n",
      "\n"
     ]
    }
   ],
   "source": [
    "# Verify multiple lines written\n",
    "with open(\"example.txt\", \"r\") as file:\n",
    "    print(\"\\nFile after writelines():\")\n",
    "    print(file.read())"
   ]
  },
  {
   "cell_type": "code",
   "execution_count": 17,
   "id": "155e0e61",
   "metadata": {},
   "outputs": [
    {
     "name": "stdout",
     "output_type": "stream",
     "text": [
      "\n",
      "File exists!\n"
     ]
    }
   ],
   "source": [
    "# 7️⃣ Checking File Existence\n",
    "import os\n",
    "\n",
    "if os.path.exists(\"example.txt\"):\n",
    "    print(\"\\nFile exists!\")\n",
    "else:\n",
    "    print(\"\\nFile does not exist!\")"
   ]
  },
  {
   "cell_type": "code",
   "execution_count": 18,
   "id": "f368126f",
   "metadata": {},
   "outputs": [
    {
     "name": "stdout",
     "output_type": "stream",
     "text": [
      "File deleted!\n"
     ]
    }
   ],
   "source": [
    "# 8️⃣ Deleting a File\n",
    "if os.path.exists(\"example.txt\"):\n",
    "    os.remove(\"example.txt\")\n",
    "    print(\"File deleted!\")"
   ]
  },
  {
   "cell_type": "code",
   "execution_count": 19,
   "id": "443697d7",
   "metadata": {},
   "outputs": [
    {
     "name": "stdout",
     "output_type": "stream",
     "text": [
      "Binary file deleted!\n"
     ]
    }
   ],
   "source": [
    "# Binary file cleanup\n",
    "if os.path.exists(\"data.bin\"):\n",
    "    os.remove(\"data.bin\")\n",
    "    print(\"Binary file deleted!\")"
   ]
  }
 ],
 "metadata": {
  "kernelspec": {
   "display_name": "Python 3",
   "language": "python",
   "name": "python3"
  },
  "language_info": {
   "codemirror_mode": {
    "name": "ipython",
    "version": 3
   },
   "file_extension": ".py",
   "mimetype": "text/x-python",
   "name": "python",
   "nbconvert_exporter": "python",
   "pygments_lexer": "ipython3",
   "version": "3.13.1"
  }
 },
 "nbformat": 4,
 "nbformat_minor": 5
}
