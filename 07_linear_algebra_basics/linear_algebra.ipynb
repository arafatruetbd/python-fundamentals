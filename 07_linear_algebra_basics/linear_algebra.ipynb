{
 "cells": [
  {
   "cell_type": "markdown",
   "id": "f1d59ce4",
   "metadata": {},
   "source": [
    "# 🛠 Linear Algebra in Python\n",
    "# This notebook contains hands-on examples of vectors, matrices, and linear algebra operations using NumPy.\n"
   ]
  },
  {
   "cell_type": "code",
   "execution_count": 1,
   "id": "7f82eac5",
   "metadata": {},
   "outputs": [],
   "source": [
    "import numpy as np"
   ]
  },
  {
   "cell_type": "code",
   "execution_count": 2,
   "id": "ba06b43b",
   "metadata": {},
   "outputs": [
    {
     "name": "stdout",
     "output_type": "stream",
     "text": [
      "Vector v: [1 2 3]\n"
     ]
    }
   ],
   "source": [
    "# --- 1️⃣ Vectors ---\n",
    "v = np.array([1, 2, 3])\n",
    "print(\"Vector v:\", v)"
   ]
  },
  {
   "cell_type": "code",
   "execution_count": 3,
   "id": "575c2b9a",
   "metadata": {},
   "outputs": [],
   "source": [
    "# --- 2️⃣ Vector Operations ---\n",
    "v1 = np.array([1, 2, 3])\n",
    "v2 = np.array([4, 5, 6])"
   ]
  },
  {
   "cell_type": "code",
   "execution_count": 4,
   "id": "798450e5",
   "metadata": {},
   "outputs": [
    {
     "name": "stdout",
     "output_type": "stream",
     "text": [
      "v1 + v2: [5 7 9]\n",
      "v2 - v1: [3 3 3]\n",
      "Scalar multiplication 3 * v1: [3 6 9]\n"
     ]
    }
   ],
   "source": [
    "print(\"v1 + v2:\", v1 + v2)\n",
    "print(\"v2 - v1:\", v2 - v1)\n",
    "print(\"Scalar multiplication 3 * v1:\", 3 * v1)"
   ]
  },
  {
   "cell_type": "code",
   "execution_count": 5,
   "id": "779e6cb8",
   "metadata": {},
   "outputs": [
    {
     "name": "stdout",
     "output_type": "stream",
     "text": [
      "Dot product of v1 and v2: 32\n"
     ]
    }
   ],
   "source": [
    "# --- 3️⃣ Dot Product ---\n",
    "dot = np.dot(v1, v2)\n",
    "print(\"Dot product of v1 and v2:\", dot)"
   ]
  },
  {
   "cell_type": "code",
   "execution_count": 6,
   "id": "a50350eb",
   "metadata": {},
   "outputs": [
    {
     "name": "stdout",
     "output_type": "stream",
     "text": [
      "Matrix A:\n",
      " [[1 2]\n",
      " [3 4]]\n"
     ]
    }
   ],
   "source": [
    "# --- 4️⃣ Matrices ---\n",
    "A = np.array([[1, 2], [3, 4]])\n",
    "print(\"Matrix A:\\n\", A)"
   ]
  },
  {
   "cell_type": "code",
   "execution_count": 7,
   "id": "2ffdaf53",
   "metadata": {},
   "outputs": [
    {
     "name": "stdout",
     "output_type": "stream",
     "text": [
      "A + B:\n",
      " [[ 6  8]\n",
      " [10 12]]\n",
      "B - A:\n",
      " [[4 4]\n",
      " [4 4]]\n"
     ]
    }
   ],
   "source": [
    "# --- 5️⃣ Matrix Operations ---\n",
    "B = np.array([[5, 6], [7, 8]])\n",
    "print(\"A + B:\\n\", A + B)\n",
    "print(\"B - A:\\n\", B - A)"
   ]
  },
  {
   "cell_type": "code",
   "execution_count": 8,
   "id": "14dd7514",
   "metadata": {},
   "outputs": [
    {
     "name": "stdout",
     "output_type": "stream",
     "text": [
      "Matrix multiplication (A.B):\n",
      " [[19 22]\n",
      " [43 50]]\n"
     ]
    }
   ],
   "source": [
    "# Matrix multiplication\n",
    "C = np.dot(A, B)\n",
    "print(\"Matrix multiplication (A.B):\\n\", C)"
   ]
  },
  {
   "cell_type": "code",
   "execution_count": 9,
   "id": "535ab26d",
   "metadata": {},
   "outputs": [
    {
     "name": "stdout",
     "output_type": "stream",
     "text": [
      "Transpose of A:\n",
      " [[1 3]\n",
      " [2 4]]\n"
     ]
    }
   ],
   "source": [
    "# --- 6️⃣ Transpose of a Matrix ---\n",
    "print(\"Transpose of A:\\n\", A.T)"
   ]
  },
  {
   "cell_type": "code",
   "execution_count": 10,
   "id": "512adbe9",
   "metadata": {},
   "outputs": [
    {
     "name": "stdout",
     "output_type": "stream",
     "text": [
      "Determinant of A: -2.0000000000000004\n",
      "Inverse of A:\n",
      " [[-2.   1. ]\n",
      " [ 1.5 -0.5]]\n"
     ]
    }
   ],
   "source": [
    "# --- 7️⃣ Determinant and Inverse ---\n",
    "det = np.linalg.det(A)\n",
    "inv = np.linalg.inv(A)\n",
    "print(\"Determinant of A:\", det)\n",
    "print(\"Inverse of A:\\n\", inv)"
   ]
  },
  {
   "cell_type": "code",
   "execution_count": 11,
   "id": "a42b9ca9",
   "metadata": {},
   "outputs": [
    {
     "name": "stdout",
     "output_type": "stream",
     "text": [
      "Identity Matrix 3x3:\n",
      " [[1. 0. 0.]\n",
      " [0. 1. 0.]\n",
      " [0. 0. 1.]]\n",
      "Zero Matrix 2x3:\n",
      " [[0. 0. 0.]\n",
      " [0. 0. 0.]]\n"
     ]
    }
   ],
   "source": [
    "# --- 8️⃣ Identity and Zero Matrices ---\n",
    "I = np.eye(3)  # 3x3 identity\n",
    "Z = np.zeros((2, 3))  # 2x3 zero matrix\n",
    "print(\"Identity Matrix 3x3:\\n\", I)\n",
    "print(\"Zero Matrix 2x3:\\n\", Z)\n"
   ]
  },
  {
   "cell_type": "code",
   "execution_count": 12,
   "id": "f03db56b",
   "metadata": {},
   "outputs": [
    {
     "name": "stdout",
     "output_type": "stream",
     "text": [
      "Solution of linear system Ax=b: [2. 3.]\n"
     ]
    }
   ],
   "source": [
    "# --- 9️⃣ Solving Linear Systems ---\n",
    "A_sys = np.array([[3, 1], [1, 2]])\n",
    "b_sys = np.array([9, 8])\n",
    "x = np.linalg.solve(A_sys, b_sys)\n",
    "print(\"Solution of linear system Ax=b:\", x)"
   ]
  }
 ],
 "metadata": {
  "kernelspec": {
   "display_name": "Python 3",
   "language": "python",
   "name": "python3"
  },
  "language_info": {
   "codemirror_mode": {
    "name": "ipython",
    "version": 3
   },
   "file_extension": ".py",
   "mimetype": "text/x-python",
   "name": "python",
   "nbconvert_exporter": "python",
   "pygments_lexer": "ipython3",
   "version": "3.13.1"
  }
 },
 "nbformat": 4,
 "nbformat_minor": 5
}
