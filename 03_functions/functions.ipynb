{
 "cells": [
  {
   "cell_type": "markdown",
   "id": "3d240ae0",
   "metadata": {},
   "source": [
    "# 🛠 Functions in Python - Examples"
   ]
  },
  {
   "cell_type": "code",
   "execution_count": 2,
   "id": "2c6bbf1d",
   "metadata": {},
   "outputs": [
    {
     "name": "stdout",
     "output_type": "stream",
     "text": [
      "Hello, welcome to Python!\n"
     ]
    }
   ],
   "source": [
    "# 1️⃣ Basic Function\n",
    "def greet():\n",
    "    print(\"Hello, welcome to Python!\")\n",
    "\n",
    "greet()  # calling the function\n"
   ]
  },
  {
   "cell_type": "code",
   "execution_count": 3,
   "id": "b783c8ae",
   "metadata": {},
   "outputs": [
    {
     "name": "stdout",
     "output_type": "stream",
     "text": [
      "Hello, Arafat!\n",
      "Hello, Jawad!\n"
     ]
    }
   ],
   "source": [
    "# 2️⃣ Function with Parameters\n",
    "def greet_name(name):\n",
    "    print(f\"Hello, {name}!\")\n",
    "\n",
    "greet_name(\"Arafat\")\n",
    "greet_name(\"Jawad\")"
   ]
  },
  {
   "cell_type": "code",
   "execution_count": 4,
   "id": "7de0573c",
   "metadata": {},
   "outputs": [
    {
     "name": "stdout",
     "output_type": "stream",
     "text": [
      "8\n"
     ]
    }
   ],
   "source": [
    "# 3️⃣ Function with Return Value\n",
    "def add(a, b):\n",
    "    return a + b\n",
    "\n",
    "result = add(5, 3)\n",
    "print(result)"
   ]
  },
  {
   "cell_type": "code",
   "execution_count": 5,
   "id": "a9621cc5",
   "metadata": {},
   "outputs": [
    {
     "name": "stdout",
     "output_type": "stream",
     "text": [
      "Hello, Guest!\n",
      "Hello, Nusrat!\n"
     ]
    }
   ],
   "source": [
    "# 4️⃣ Default Arguments\n",
    "def greet_default(name=\"Guest\"):\n",
    "    print(f\"Hello, {name}!\")\n",
    "\n",
    "greet_default()        # uses default\n",
    "greet_default(\"Nusrat\")"
   ]
  },
  {
   "cell_type": "code",
   "execution_count": 6,
   "id": "c1804d44",
   "metadata": {},
   "outputs": [
    {
     "name": "stdout",
     "output_type": "stream",
     "text": [
      "My name is Rahim and I am 25 years old.\n"
     ]
    }
   ],
   "source": [
    "# 5️⃣ Keyword Arguments\n",
    "def introduce(name, age):\n",
    "    print(f\"My name is {name} and I am {age} years old.\")\n",
    "\n",
    "introduce(age=25, name=\"Rahim\")"
   ]
  },
  {
   "cell_type": "code",
   "execution_count": 7,
   "id": "df6452a8",
   "metadata": {},
   "outputs": [
    {
     "name": "stdout",
     "output_type": "stream",
     "text": [
      "10\n"
     ]
    }
   ],
   "source": [
    "# 6️⃣ Variable-Length Arguments\n",
    "# *args → Multiple positional arguments\n",
    "def add_all(*numbers):\n",
    "    return sum(numbers)\n",
    "\n",
    "print(add_all(1, 2, 3, 4))"
   ]
  },
  {
   "cell_type": "code",
   "execution_count": 8,
   "id": "cf00f534",
   "metadata": {},
   "outputs": [
    {
     "name": "stdout",
     "output_type": "stream",
     "text": [
      "name: Arafat\n",
      "age: 25\n",
      "city: Dhaka\n"
     ]
    }
   ],
   "source": [
    "# **kwargs → Multiple keyword arguments\n",
    "def print_info(**details):\n",
    "    for key, value in details.items():\n",
    "        print(f\"{key}: {value}\")\n",
    "\n",
    "print_info(name=\"Arafat\", age=25, city=\"Dhaka\")"
   ]
  },
  {
   "cell_type": "code",
   "execution_count": 9,
   "id": "d96c0998",
   "metadata": {},
   "outputs": [
    {
     "name": "stdout",
     "output_type": "stream",
     "text": [
      "Inside function: 10 5\n",
      "Outside function: 10\n"
     ]
    }
   ],
   "source": [
    "# 7️⃣ Variable Scope\n",
    "x = 10  # global variable\n",
    "\n",
    "def my_func():\n",
    "    y = 5  # local variable\n",
    "    print(\"Inside function:\", x, y)\n",
    "\n",
    "my_func()\n",
    "print(\"Outside function:\", x)"
   ]
  },
  {
   "cell_type": "code",
   "execution_count": 10,
   "id": "8bdcb9db",
   "metadata": {},
   "outputs": [
    {
     "name": "stdout",
     "output_type": "stream",
     "text": [
      "25\n"
     ]
    }
   ],
   "source": [
    "# 8️⃣ Lambda Functions\n",
    "square = lambda x: x * x\n",
    "print(square(5))"
   ]
  },
  {
   "cell_type": "code",
   "execution_count": 11,
   "id": "de7cdb23",
   "metadata": {},
   "outputs": [
    {
     "name": "stdout",
     "output_type": "stream",
     "text": [
      "10\n"
     ]
    }
   ],
   "source": [
    "# Lambda with multiple arguments\n",
    "add = lambda a, b: a + b\n",
    "print(add(3, 7))"
   ]
  },
  {
   "cell_type": "code",
   "execution_count": 16,
   "id": "534df49a",
   "metadata": {},
   "outputs": [
    {
     "name": "stdout",
     "output_type": "stream",
     "text": [
      "[1, 4, 9, 16]\n"
     ]
    }
   ],
   "source": [
    "# Lambda with map/filter example\n",
    "numbers = [1, 2, 3, 4]\n",
    "squared_numbers = list(map(lambda x: x**2, numbers))\n",
    "print(squared_numbers)"
   ]
  },
  {
   "cell_type": "code",
   "execution_count": 13,
   "id": "43c181c9",
   "metadata": {},
   "outputs": [
    {
     "name": "stdout",
     "output_type": "stream",
     "text": [
      "120\n"
     ]
    }
   ],
   "source": [
    "# 9️⃣ Recursion\n",
    "def factorial(n):\n",
    "    if n == 1:\n",
    "        return 1\n",
    "    return n * factorial(n-1)\n",
    "\n",
    "print(factorial(5))  # 120"
   ]
  },
  {
   "cell_type": "code",
   "execution_count": 14,
   "id": "f36646dc",
   "metadata": {},
   "outputs": [
    {
     "name": "stdout",
     "output_type": "stream",
     "text": [
      "[0, 1, 1, 2, 3, 5]\n"
     ]
    }
   ],
   "source": [
    "# Fibonacci using recursion\n",
    "def fibonacci(n):\n",
    "    if n <= 1:\n",
    "        return n\n",
    "    return fibonacci(n-1) + fibonacci(n-2)\n",
    "\n",
    "print([fibonacci(i) for i in range(6)])  # [0, 1, 1, 2, 3, 5]\n"
   ]
  }
 ],
 "metadata": {
  "kernelspec": {
   "display_name": "Python 3",
   "language": "python",
   "name": "python3"
  },
  "language_info": {
   "codemirror_mode": {
    "name": "ipython",
    "version": 3
   },
   "file_extension": ".py",
   "mimetype": "text/x-python",
   "name": "python",
   "nbconvert_exporter": "python",
   "pygments_lexer": "ipython3",
   "version": "3.13.1"
  }
 },
 "nbformat": 4,
 "nbformat_minor": 5
}
