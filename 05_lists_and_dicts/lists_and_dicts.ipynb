{
 "cells": [
  {
   "cell_type": "markdown",
   "id": "3840612e",
   "metadata": {},
   "source": [
    "# 🛠 Lists & Dictionaries in Python"
   ]
  },
  {
   "cell_type": "code",
   "execution_count": 1,
   "id": "ac3e1b4b",
   "metadata": {},
   "outputs": [
    {
     "name": "stdout",
     "output_type": "stream",
     "text": [
      "Initial list: ['apple', 'banana', 'mango']\n"
     ]
    }
   ],
   "source": [
    "# -----------------------------\n",
    "# 1️⃣ Lists\n",
    "# -----------------------------\n",
    "\n",
    "# Creating a List\n",
    "fruits = [\"apple\", \"banana\", \"mango\"]\n",
    "print(\"Initial list:\", fruits)"
   ]
  },
  {
   "cell_type": "code",
   "execution_count": 2,
   "id": "4f824f00",
   "metadata": {},
   "outputs": [
    {
     "name": "stdout",
     "output_type": "stream",
     "text": [
      "First element: apple\n",
      "Last element: mango\n"
     ]
    }
   ],
   "source": [
    "# Accessing Elements\n",
    "print(\"First element:\", fruits[0])\n",
    "print(\"Last element:\", fruits[-1])"
   ]
  },
  {
   "cell_type": "code",
   "execution_count": 3,
   "id": "9c280048",
   "metadata": {},
   "outputs": [
    {
     "name": "stdout",
     "output_type": "stream",
     "text": [
      "Modified list: ['grape', 'mango', 'orange']\n"
     ]
    }
   ],
   "source": [
    "# Modifying Lists\n",
    "fruits.append(\"orange\")  # add\n",
    "fruits[1] = \"grape\"      # modify\n",
    "fruits.remove(\"apple\")   # remove\n",
    "print(\"Modified list:\", fruits)"
   ]
  },
  {
   "cell_type": "code",
   "execution_count": 4,
   "id": "40439d96",
   "metadata": {},
   "outputs": [
    {
     "name": "stdout",
     "output_type": "stream",
     "text": [
      "Slice 2:5 -> [3, 4, 5]\n",
      "First 3 elements -> [1, 2, 3]\n",
      "From index 3 to end -> [4, 5, 6]\n"
     ]
    }
   ],
   "source": [
    "# Slicing a List\n",
    "numbers = [1, 2, 3, 4, 5, 6]\n",
    "print(\"Slice 2:5 ->\", numbers[2:5])  # from index 2 to 4\n",
    "print(\"First 3 elements ->\", numbers[:3])\n",
    "print(\"From index 3 to end ->\", numbers[3:])"
   ]
  },
  {
   "cell_type": "code",
   "execution_count": 5,
   "id": "e06ae20a",
   "metadata": {},
   "outputs": [
    {
     "name": "stdout",
     "output_type": "stream",
     "text": [
      "Looping through fruits:\n",
      "grape\n",
      "mango\n",
      "orange\n"
     ]
    }
   ],
   "source": [
    "# Looping Through Lists\n",
    "print(\"Looping through fruits:\")\n",
    "for fruit in fruits:\n",
    "    print(fruit)"
   ]
  },
  {
   "cell_type": "code",
   "execution_count": 6,
   "id": "487fe168",
   "metadata": {},
   "outputs": [
    {
     "name": "stdout",
     "output_type": "stream",
     "text": [
      "Squares using list comprehension: [0, 1, 4, 9, 16]\n"
     ]
    }
   ],
   "source": [
    "# List Comprehensions\n",
    "squares = [x**2 for x in range(5)]\n",
    "print(\"Squares using list comprehension:\", squares)"
   ]
  },
  {
   "cell_type": "code",
   "execution_count": 7,
   "id": "d4e24f00",
   "metadata": {},
   "outputs": [
    {
     "name": "stdout",
     "output_type": "stream",
     "text": [
      "Initial dictionary: {'name': 'Rahim', 'age': 25, 'city': 'Dhaka'}\n"
     ]
    }
   ],
   "source": [
    "# -----------------------------\n",
    "# 2️⃣ Dictionaries\n",
    "# -----------------------------\n",
    "\n",
    "# Creating a Dictionary\n",
    "person = {\"name\": \"Rahim\", \"age\": 25, \"city\": \"Dhaka\"}\n",
    "print(\"Initial dictionary:\", person)"
   ]
  },
  {
   "cell_type": "code",
   "execution_count": 8,
   "id": "1f602a3c",
   "metadata": {},
   "outputs": [
    {
     "name": "stdout",
     "output_type": "stream",
     "text": [
      "Name: Rahim\n",
      "Age: 25\n"
     ]
    }
   ],
   "source": [
    "# Accessing Values\n",
    "print(\"Name:\", person[\"name\"])\n",
    "print(\"Age:\", person.get(\"age\"))\n"
   ]
  },
  {
   "cell_type": "code",
   "execution_count": 9,
   "id": "7043b305",
   "metadata": {},
   "outputs": [
    {
     "name": "stdout",
     "output_type": "stream",
     "text": [
      "Modified dictionary: {'name': 'Rahim', 'age': 26, 'city': 'Dhaka', 'profession': 'Developer'}\n"
     ]
    }
   ],
   "source": [
    "# Modifying a Dictionary\n",
    "person[\"age\"] = 26                # update\n",
    "person[\"profession\"] = \"Developer\"  # add new key-value\n",
    "print(\"Modified dictionary:\", person)"
   ]
  },
  {
   "cell_type": "code",
   "execution_count": 10,
   "id": "f80a2b49",
   "metadata": {},
   "outputs": [
    {
     "name": "stdout",
     "output_type": "stream",
     "text": [
      "After removals: {'name': 'Rahim', 'profession': 'Developer'}\n"
     ]
    }
   ],
   "source": [
    "# Removing Items\n",
    "person.pop(\"city\")  # remove by key\n",
    "del person[\"age\"]   # delete key\n",
    "print(\"After removals:\", person)\n"
   ]
  },
  {
   "cell_type": "code",
   "execution_count": 11,
   "id": "e41b9491",
   "metadata": {},
   "outputs": [
    {
     "name": "stdout",
     "output_type": "stream",
     "text": [
      "Looping through dictionary:\n",
      "name: Rahim\n",
      "profession: Developer\n"
     ]
    }
   ],
   "source": [
    "# Looping Through a Dictionary\n",
    "print(\"Looping through dictionary:\")\n",
    "for key, value in person.items():\n",
    "    print(f\"{key}: {value}\")"
   ]
  },
  {
   "cell_type": "code",
   "execution_count": 12,
   "id": "372c2105",
   "metadata": {},
   "outputs": [
    {
     "name": "stdout",
     "output_type": "stream",
     "text": [
      "Squares using dictionary comprehension: {0: 0, 1: 1, 2: 4, 3: 9, 4: 16}\n"
     ]
    }
   ],
   "source": [
    "# Dictionary Comprehensions\n",
    "squares_dict = {x: x**2 for x in range(5)}\n",
    "print(\"Squares using dictionary comprehension:\", squares_dict)"
   ]
  }
 ],
 "metadata": {
  "kernelspec": {
   "display_name": "Python 3",
   "language": "python",
   "name": "python3"
  },
  "language_info": {
   "codemirror_mode": {
    "name": "ipython",
    "version": 3
   },
   "file_extension": ".py",
   "mimetype": "text/x-python",
   "name": "python",
   "nbconvert_exporter": "python",
   "pygments_lexer": "ipython3",
   "version": "3.13.1"
  }
 },
 "nbformat": 4,
 "nbformat_minor": 5
}
